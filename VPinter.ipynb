{
 "cells": [
  {
   "cell_type": "code",
   "execution_count": null,
   "id": "ea4a159c",
   "metadata": {},
   "outputs": [],
   "source": [
    "!pip install Mediapipe"
   ]
  },
  {
   "cell_type": "code",
   "execution_count": 1,
   "id": "79a22c69",
   "metadata": {},
   "outputs": [],
   "source": [
    "import cv2\n",
    "import numpy as np\n",
    "import time\n",
    "from cvzone.HandTrackingModule import HandDetector"
   ]
  },
  {
   "cell_type": "code",
   "execution_count": 19,
   "id": "64b45c05",
   "metadata": {},
   "outputs": [],
   "source": [
    "cap = cv2.VideoCapture(0)\n",
    "detect = HandDetector(detectionCon=0.85)\n",
    "tableau = np.zeros((720,1080,3),np.uint8)\n",
    "x,y = 0,0\n",
    "while True:\n",
    "    succ, img = cap.read()\n",
    "    img = cv2.flip(img, 1)\n",
    "    \n",
    "    img = detect.findHands(img)\n",
    "    fingList, info = detect.findPosition(img, draw=False)\n",
    "    leng= detect.findDistance(8,4,img)\n",
    "    if len(fingList) != 0:\n",
    "        x8, y8 = fingList[8][0], fingList[8][1]\n",
    "        x4, y4 = fingList[4][0], fingList[4][1]\n",
    "        # > 100 select\n",
    "        if leng[0] < 60:\n",
    "            \n",
    "            if x == 0 and y == 0:\n",
    "                x, y = x8, y8\n",
    "                \n",
    "            cv2.line(img,(x,y),(x8,y8),(0,255,0),15)\n",
    "            cv2.line(tableau,(x,y),(x8,y8),(255,255,255),15)\n",
    "            x, y = x8, y8\n",
    "    \n",
    "    cv2.imshow('frame',img)\n",
    "    cv2.imshow('tableau',tableau)\n",
    "    \n",
    "    if cv2.waitKey(1) & 0xFF == ord('a'):\n",
    "        break\n",
    "        \n",
    "cv2.destroyAllWindows()\n",
    "cap.release()"
   ]
  },
  {
   "cell_type": "code",
   "execution_count": null,
   "id": "063d1a39",
   "metadata": {},
   "outputs": [],
   "source": []
  }
 ],
 "metadata": {
  "kernelspec": {
   "display_name": "Python 3",
   "language": "python",
   "name": "python3"
  },
  "language_info": {
   "codemirror_mode": {
    "name": "ipython",
    "version": 3
   },
   "file_extension": ".py",
   "mimetype": "text/x-python",
   "name": "python",
   "nbconvert_exporter": "python",
   "pygments_lexer": "ipython3",
   "version": "3.8.8"
  }
 },
 "nbformat": 4,
 "nbformat_minor": 5
}
